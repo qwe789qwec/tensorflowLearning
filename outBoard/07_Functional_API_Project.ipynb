{
 "cells": [
  {
   "cell_type": "code",
   "execution_count": 12,
   "metadata": {},
   "outputs": [],
   "source": [
    "import os\n",
    "os.environ['TF_CPP_MIN_LOG_LEVEL'] = '2'\n",
    "\n",
    "import tensorflow as tf\n",
    "from tensorflow import keras\n",
    "import numpy as np"
   ]
  },
  {
   "cell_type": "code",
   "execution_count": 13,
   "metadata": {},
   "outputs": [],
   "source": [
    "# Define Functional Model\n",
    "inputs = keras.Input(shape=(28,28))\n",
    "flatten = keras.layers.Flatten()\n",
    "dense1 = keras.layers.Dense(128, activation='relu')\n",
    "\n",
    "dense2 = keras.layers.Dense(10, activation='softmax', name=\"category_output\")\n",
    "dense3 = keras.layers.Dense(1, activation='sigmoid', name=\"leftright_output\")"
   ]
  },
  {
   "cell_type": "code",
   "execution_count": 14,
   "metadata": {},
   "outputs": [],
   "source": [
    "x = flatten(inputs)\n",
    "x = dense1(x)\n",
    "outputs1 = dense2(x)\n",
    "outputs2 = dense3(x)\n",
    "\n",
    "model = keras.Model(inputs=inputs, outputs=[outputs1, outputs2], name=\"mnist_model\")"
   ]
  },
  {
   "cell_type": "code",
   "execution_count": 15,
   "metadata": {},
   "outputs": [
    {
     "name": "stdout",
     "output_type": "stream",
     "text": [
      "Model: \"mnist_model\"\n",
      "__________________________________________________________________________________________________\n",
      "Layer (type)                    Output Shape         Param #     Connected to                     \n",
      "==================================================================================================\n",
      "input_2 (InputLayer)            [(None, 28, 28)]     0                                            \n",
      "__________________________________________________________________________________________________\n",
      "flatten_1 (Flatten)             (None, 784)          0           input_2[0][0]                    \n",
      "__________________________________________________________________________________________________\n",
      "dense_1 (Dense)                 (None, 128)          100480      flatten_1[0][0]                  \n",
      "__________________________________________________________________________________________________\n",
      "category_output (Dense)         (None, 10)           1290        dense_1[0][0]                    \n",
      "__________________________________________________________________________________________________\n",
      "leftright_output (Dense)        (None, 1)            129         dense_1[0][0]                    \n",
      "==================================================================================================\n",
      "Total params: 101,899\n",
      "Trainable params: 101,899\n",
      "Non-trainable params: 0\n",
      "__________________________________________________________________________________________________\n"
     ]
    }
   ],
   "source": [
    "model.summary()"
   ]
  },
  {
   "cell_type": "code",
   "execution_count": 16,
   "metadata": {},
   "outputs": [],
   "source": [
    "# loss and optimizer\n",
    "loss1 = keras.losses.SparseCategoricalCrossentropy(from_logits=False)\n",
    "loss2 = keras.losses.BinaryCrossentropy(from_logits=False)\n",
    "optim = keras.optimizers.Adam(lr=0.001)\n",
    "metrics = [\"accuracy\"]\n",
    "\n",
    "losses = {\n",
    "    \"category_output\": loss1,\n",
    "    \"leftright_output\": loss2,\n",
    "}\n",
    "\n",
    "model.compile(loss=losses, optimizer=optim, metrics=metrics)"
   ]
  },
  {
   "cell_type": "code",
   "execution_count": 17,
   "metadata": {},
   "outputs": [
    {
     "name": "stdout",
     "output_type": "stream",
     "text": [
      "uint8 [5 0 4 1 9 2 1 3 1 4 3 5 3 6 1 7 2 8 6 9]\n",
      "uint8 [0 0 0 0 1 0 0 0 0 0 0 0 0 1 0 1 0 1 1 1]\n"
     ]
    }
   ],
   "source": [
    "# create data with 2 labels\n",
    "mnist = keras.datasets.mnist\n",
    "(x_train, y_train), (x_test, y_test) = mnist.load_data()\n",
    "x_train, x_test = x_train / 255.0, x_test / 255.0\n",
    "\n",
    "# 0=left, 1=right\n",
    "y_leftright = np.zeros(y_train.shape, dtype=np.uint8)\n",
    "for idx, y in enumerate(y_train):\n",
    "    if y > 5:\n",
    "        y_leftright[idx] = 1\n",
    "\n",
    "print(y_train.dtype, y_train[0:20])\n",
    "print(y_leftright.dtype, y_leftright[0:20])\n",
    "\n",
    "y= {\"category_output\": y_train,\n",
    "    \"leftright_output\": y_leftright }"
   ]
  },
  {
   "cell_type": "code",
   "execution_count": 18,
   "metadata": {},
   "outputs": [
    {
     "name": "stdout",
     "output_type": "stream",
     "text": [
      "Epoch 1/5\n",
      "938/938 - 2s - loss: 0.4943 - category_output_loss: 0.3031 - leftright_output_loss: 0.1912 - category_output_accuracy: 0.9149 - leftright_output_accuracy: 0.9284\n",
      "Epoch 2/5\n",
      "938/938 - 2s - loss: 0.2341 - category_output_loss: 0.1377 - leftright_output_loss: 0.0964 - category_output_accuracy: 0.9601 - leftright_output_accuracy: 0.9673\n",
      "Epoch 3/5\n",
      "938/938 - 2s - loss: 0.1747 - category_output_loss: 0.0988 - leftright_output_loss: 0.0760 - category_output_accuracy: 0.9704 - leftright_output_accuracy: 0.9744\n",
      "Epoch 4/5\n",
      "938/938 - 2s - loss: 0.1410 - category_output_loss: 0.0773 - leftright_output_loss: 0.0637 - category_output_accuracy: 0.9767 - leftright_output_accuracy: 0.9786\n",
      "Epoch 5/5\n",
      "938/938 - 2s - loss: 0.1161 - category_output_loss: 0.0618 - leftright_output_loss: 0.0542 - category_output_accuracy: 0.9818 - leftright_output_accuracy: 0.9819\n"
     ]
    },
    {
     "data": {
      "text/plain": [
       "<tensorflow.python.keras.callbacks.History at 0x7f8ca6d2bb20>"
      ]
     },
     "execution_count": 18,
     "metadata": {},
     "output_type": "execute_result"
    }
   ],
   "source": [
    "# training\n",
    "model.fit(x_train, y=y, epochs=5,\n",
    "          batch_size=64, verbose=2)"
   ]
  },
  {
   "cell_type": "code",
   "execution_count": 19,
   "metadata": {},
   "outputs": [
    {
     "data": {
      "text/plain": [
       "2"
      ]
     },
     "execution_count": 19,
     "metadata": {},
     "output_type": "execute_result"
    }
   ],
   "source": [
    "# list with 2 predictions\n",
    "predictions = model.predict(x_test)\n",
    "len(predictions)"
   ]
  },
  {
   "cell_type": "code",
   "execution_count": 20,
   "metadata": {},
   "outputs": [],
   "source": [
    "prediction_category = predictions[0]\n",
    "prediction_lr = predictions[1]\n",
    "\n",
    "pr_cat = prediction_category[0:20]\n",
    "prediction_lr = prediction_lr[0:20]\n",
    "\n",
    "labels_cat = np.argmax(pr_cat, axis=1)\n",
    "labels_lr = np.array([1 if p >= 0.5 else 0 for p in prediction_lr])"
   ]
  },
  {
   "cell_type": "code",
   "execution_count": 21,
   "metadata": {},
   "outputs": [
    {
     "name": "stdout",
     "output_type": "stream",
     "text": [
      "[7 2 1 0 4 1 4 9 5 9 0 6 9 0 1 5 9 7 3 4]\n",
      "[7 2 1 0 4 1 4 9 5 9 0 6 9 0 1 5 9 7 3 4]\n",
      "[1 0 0 0 0 0 0 1 1 1 0 1 1 0 0 0 1 1 0 0]\n"
     ]
    }
   ],
   "source": [
    "print(y_test[0:20])\n",
    "print(labels_cat)\n",
    "print(labels_lr)"
   ]
  },
  {
   "cell_type": "code",
   "execution_count": null,
   "metadata": {},
   "outputs": [],
   "source": []
  }
 ],
 "metadata": {
  "kernelspec": {
   "display_name": "tf",
   "language": "python",
   "name": "tf"
  },
  "language_info": {
   "codemirror_mode": {
    "name": "ipython",
    "version": 3
   },
   "file_extension": ".py",
   "mimetype": "text/x-python",
   "name": "python",
   "nbconvert_exporter": "python",
   "pygments_lexer": "ipython3",
   "version": "3.8.5"
  }
 },
 "nbformat": 4,
 "nbformat_minor": 4
}
