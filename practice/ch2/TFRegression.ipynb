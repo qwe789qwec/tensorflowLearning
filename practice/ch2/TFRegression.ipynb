{
 "cells": [
  {
   "cell_type": "code",
   "execution_count": 89,
   "metadata": {},
   "outputs": [],
   "source": [
    "import tensorflow as tf\n",
    "\n",
    "# 定義一個隨機數（純量）\n",
    "random_float = tf.random.uniform(shape=(10,1)) *10\n",
    "X = random_float\n",
    "w = tf.constant([6.7])\n",
    "b = tf.constant([-3.3])\n",
    "Y =  w * X + b\n",
    "# Y = tf.matmul(X, w) # 計算矩陣A和B的乘積\n",
    "# Y = tf.add(Y, b)    # 計算矩陣A和B的和\n",
    "\n",
    "# 定義一個有2個元素的零向量\n",
    "zero_vector = tf.zeros(shape=(2))\n",
    "\n",
    "# 定義兩個2×2的常量矩陣\n",
    "A = tf.constant([[1., 2.], [3., 4.]])\n",
    "B = tf.constant([[5., 6.], [7., 8.]])\n"
   ]
  },
  {
   "cell_type": "code",
   "execution_count": 90,
   "metadata": {},
   "outputs": [
    {
     "name": "stdout",
     "output_type": "stream",
     "text": [
      "tf.Tensor(\n",
      "[[4.513254  ]\n",
      " [5.3213654 ]\n",
      " [7.764984  ]\n",
      " [5.8046985 ]\n",
      " [8.369423  ]\n",
      " [0.35882354]\n",
      " [9.807983  ]\n",
      " [4.283445  ]\n",
      " [0.7956195 ]\n",
      " [2.5849593 ]], shape=(10, 1), dtype=float32)\n",
      "[<tf.Tensor: shape=(), dtype=float32, numpy=-0.0018135104>, <tf.Tensor: shape=(), dtype=float32, numpy=0.012138892>]\n",
      "<tf.Variable 'Variable:0' shape=() dtype=float32, numpy=6.6965194> <tf.Variable 'Variable:0' shape=() dtype=float32, numpy=-3.276697>\n"
     ]
    }
   ],
   "source": [
    "optimizer = tf.keras.optimizers.SGD(learning_rate=0.01)\n",
    "wg = tf.Variable(initial_value=0.)\n",
    "bg = tf.Variable(initial_value=0.)\n",
    "variables = [wg, bg]\n",
    "print(X)\n",
    "\n",
    "num_epoch = 1000\n",
    "for e in range(num_epoch):\n",
    "    # 使用tf.GradientTape()記錄損失函數的梯度資訊\n",
    "    with tf.GradientTape() as tape:\n",
    "        y_pred = wg * X + bg\n",
    "        loss = tf.reduce_sum(tf.square(y_pred - Y)) / 10\n",
    "    # TensorFlow自動計算損失函數關於自變數（模型參數）的梯度\n",
    "    grads = tape.gradient(loss, variables)\n",
    "    # TensorFlow自動根據梯度更新參數\n",
    "    optimizer.apply_gradients(grads_and_vars=zip(grads, variables))\n",
    "\n",
    "print(grads)\n",
    "print(wg, bg)"
   ]
  },
  {
   "cell_type": "code",
   "execution_count": 94,
   "metadata": {},
   "outputs": [
    {
     "name": "stdout",
     "output_type": "stream",
     "text": [
      "[<tf.Variable 'linear_10/dense_10/kernel:0' shape=(1, 1) dtype=float32, numpy=array([[6.6965194]], dtype=float32)>, <tf.Variable 'linear_10/dense_10/bias:0' shape=(1,) dtype=float32, numpy=array([-3.276697], dtype=float32)>]\n"
     ]
    }
   ],
   "source": [
    "# X = tf.constant([[1.0, 2.0, 3.0], [4.0, 5.0, 6.0]])\n",
    "# Y = tf.constant([[10.0], [20.0]])\n",
    "\n",
    "\n",
    "class Linear(tf.keras.Model):\n",
    "    def __init__(self):\n",
    "        super().__init__()\n",
    "        self.dense = tf.keras.layers.Dense(\n",
    "            units=1,\n",
    "            activation=None,\n",
    "            kernel_initializer=tf.zeros_initializer(),\n",
    "            bias_initializer=tf.zeros_initializer()\n",
    "        )\n",
    "\n",
    "    def call(self, input):\n",
    "        output = self.dense(input)\n",
    "        return output\n",
    "\n",
    "\n",
    "# 以下程式碼結構與前一節類似\n",
    "model = Linear()\n",
    "optimizer = tf.keras.optimizers.SGD(learning_rate=0.01)\n",
    "for i in range(1000):\n",
    "    with tf.GradientTape() as tape:\n",
    "        y_pred = model(X)      # 呼叫模型 y_pred = model(X) 而不是顯式寫出 y_pred = a * X + b\n",
    "        loss = tf.reduce_mean(tf.square(y_pred - Y))\n",
    "        # loss = tf.reduce_sum(tf.square(y_pred - Y)) / 10\n",
    "    grads = tape.gradient(loss, model.variables)    # 使用 model.variables 這一屬性直接獲得模型中的所有變數\n",
    "    optimizer.apply_gradients(grads_and_vars=zip(grads, model.variables))\n",
    "print(model.variables)"
   ]
  }
 ],
 "metadata": {
  "kernelspec": {
   "display_name": "Python 3.9.12 ('base')",
   "language": "python",
   "name": "python3"
  },
  "language_info": {
   "codemirror_mode": {
    "name": "ipython",
    "version": 3
   },
   "file_extension": ".py",
   "mimetype": "text/x-python",
   "name": "python",
   "nbconvert_exporter": "python",
   "pygments_lexer": "ipython3",
   "version": "3.9.12"
  },
  "orig_nbformat": 4,
  "vscode": {
   "interpreter": {
    "hash": "2000d0dc9cd0d7a1d236037107defafbaf93dd32327d175fba31c6a2adfa00d2"
   }
  }
 },
 "nbformat": 4,
 "nbformat_minor": 2
}
