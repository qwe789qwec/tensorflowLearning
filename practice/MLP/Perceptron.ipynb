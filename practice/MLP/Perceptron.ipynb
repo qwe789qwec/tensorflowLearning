{
 "cells": [
  {
   "cell_type": "code",
   "execution_count": 23,
   "metadata": {},
   "outputs": [],
   "source": [
    "import tensorflow as tf\n",
    "\n",
    "X = tf.constant([[0,0],[0,1],[1,0],[1,1]])\n",
    "Y = tf.constant([[0.],[1.],[1.],[1.]])\n",
    "# Y = tf.constant([False ,True, True, True])\n"
   ]
  },
  {
   "cell_type": "code",
   "execution_count": 41,
   "metadata": {},
   "outputs": [
    {
     "name": "stdout",
     "output_type": "stream",
     "text": [
      "[<tf.Variable 'perceptron_33/dense_33/kernel:0' shape=(2, 1) dtype=float32, numpy=\n",
      "array([[0.48167866],\n",
      "       [0.4962875 ]], dtype=float32)>, <tf.Variable 'perceptron_33/dense_33/bias:0' shape=(1,) dtype=float32, numpy=array([0.2630676], dtype=float32)>]\n",
      "tf.Tensor(\n",
      "[[0.2630676 ]\n",
      " [0.75935507]\n",
      " [0.74474627]\n",
      " [1.2410338 ]], shape=(4, 1), dtype=float32)\n"
     ]
    }
   ],
   "source": [
    "class Perceptron(tf.keras.Model):\n",
    "    def __init__(self):\n",
    "        super().__init__()\n",
    "        self.dense = tf.keras.layers.Dense(\n",
    "            units=1,\n",
    "            activation=None,\n",
    "            # kernel_initializer=tf.zeros_initializer(),\n",
    "            # bias_initializer=tf.zeros_initializer()\n",
    "        )\n",
    "\n",
    "    def call(self, input):\n",
    "        output = self.dense(input)\n",
    "        return output\n",
    "\n",
    "num_epoch = 100\n",
    "model = Perceptron()\n",
    "optimizer = tf.keras.optimizers.SGD(learning_rate=0.1)\n",
    "for e in range(num_epoch):\n",
    "    # 使用tf.GradientTape()記錄損失函數的梯度資訊\n",
    "    with tf.GradientTape() as tape:\n",
    "        y_pred = model(X)\n",
    "        loss = tf.reduce_mean(tf.square(y_pred - Y))\n",
    "    # TensorFlow自動計算損失函數關於自變數（模型參數）的梯度\n",
    "    grads = tape.gradient(loss, model.variables)\n",
    "    # TensorFlow自動根據梯度更新參數\n",
    "    optimizer.apply_gradients(grads_and_vars=zip(grads, model.variables))\n",
    "\n",
    "print(model.variables)\n",
    "print(model(X))\n"
   ]
  }
 ],
 "metadata": {
  "kernelspec": {
   "display_name": "Python 3.9.12 ('base')",
   "language": "python",
   "name": "python3"
  },
  "language_info": {
   "codemirror_mode": {
    "name": "ipython",
    "version": 3
   },
   "file_extension": ".py",
   "mimetype": "text/x-python",
   "name": "python",
   "nbconvert_exporter": "python",
   "pygments_lexer": "ipython3",
   "version": "3.9.12"
  },
  "orig_nbformat": 4,
  "vscode": {
   "interpreter": {
    "hash": "2000d0dc9cd0d7a1d236037107defafbaf93dd32327d175fba31c6a2adfa00d2"
   }
  }
 },
 "nbformat": 4,
 "nbformat_minor": 2
}
